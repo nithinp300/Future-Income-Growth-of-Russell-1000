{
 "cells": [
  {
   "cell_type": "code",
   "execution_count": 0,
   "metadata": {
    "colab": {},
    "colab_type": "code",
    "id": "88K9pdta_OgG"
   },
   "outputs": [],
   "source": [
    "import pandas as pd\n",
    "import numpy as np\n",
    "import matplotlib.pyplot as plt\n",
    "from sklearn.linear_model import LinearRegression\n",
    "from sklearn.metrics import mean_squared_error\n",
    "from sklearn.linear_model import Lasso\n",
    "import sklearn.model_selection as ms\n",
    "import sklearn.metrics as mt\n",
    "import warnings\n",
    "warnings.simplefilter(\"ignore\")"
   ]
  },
  {
   "cell_type": "code",
   "execution_count": 0,
   "metadata": {
    "colab": {
     "base_uri": "https://localhost:8080/",
     "height": 105
    },
    "colab_type": "code",
    "id": "D4Y0tnSkEXw5",
    "outputId": "4caeba9a-6059-4e4d-b092-b3dce37992db"
   },
   "outputs": [
    {
     "name": "stdout",
     "output_type": "stream",
     "text": [
      "Go to this URL in a browser: https://accounts.google.com/o/oauth2/auth?client_id=947318989803-6bn6qk8qdgf4n4g3pfee6491hc0brc4i.apps.googleusercontent.com&redirect_uri=urn%3aietf%3awg%3aoauth%3a2.0%3aoob&response_type=code&scope=email%20https%3a%2f%2fwww.googleapis.com%2fauth%2fdocs.test%20https%3a%2f%2fwww.googleapis.com%2fauth%2fdrive%20https%3a%2f%2fwww.googleapis.com%2fauth%2fdrive.photos.readonly%20https%3a%2f%2fwww.googleapis.com%2fauth%2fpeopleapi.readonly\n",
      "\n",
      "Enter your authorization code:\n",
      "··········\n"
     ]
    }
   ],
   "source": [
    "# If you haven't mounted your drive yet, do so by running this code.\n",
    "from google.colab import drive\n",
    "drive.mount('/content/drive')"
   ]
  },
  {
   "cell_type": "code",
   "execution_count": 0,
   "metadata": {
    "colab": {},
    "colab_type": "code",
    "id": "PxB8bT9fEYrr"
   },
   "outputs": [],
   "source": [
    "# Set the current working directory\n",
    "cwd = 'drive/My Drive/data mining project/'"
   ]
  },
  {
   "cell_type": "markdown",
   "metadata": {
    "colab_type": "text",
    "id": "RvYcu3RbTcjE"
   },
   "source": [
    "# Preprocessing"
   ]
  },
  {
   "cell_type": "code",
   "execution_count": 0,
   "metadata": {
    "colab": {},
    "colab_type": "code",
    "id": "xEJ5UDB7hmXc"
   },
   "outputs": [],
   "source": [
    "def removeNaN(df, has_label):\n",
    "  df = df.dropna(axis=1)\n",
    "  if has_label:\n",
    "    df = df[np.abs(df['label'] - df['label'].mean()) < 3 * df['label'].std()]\n",
    "  df = df.drop(labels=['symbol','industry', 'period_end_date', 'quarter1', 'quarter2', 'quarter3', 'quarter4'], axis=1)\n",
    "  return df"
   ]
  },
  {
   "cell_type": "code",
   "execution_count": 0,
   "metadata": {
    "colab": {},
    "colab_type": "code",
    "id": "n2WACi2ao-_F"
   },
   "outputs": [],
   "source": [
    "import sklearn.preprocessing as prep\n",
    "def standardize(df, has_label):\n",
    "  if has_label:\n",
    "    attributes = df.drop(columns=['label']).columns\n",
    "  else:\n",
    "    attributes = df.columns\n",
    "  df[attributes] = prep.StandardScaler().fit_transform(df[attributes])\n",
    "  return df\n"
   ]
  },
  {
   "cell_type": "markdown",
   "metadata": {
    "colab_type": "text",
    "id": "AT09q_GnTXfY"
   },
   "source": [
    "# Linear Regression\n"
   ]
  },
  {
   "cell_type": "code",
   "execution_count": 0,
   "metadata": {
    "colab": {},
    "colab_type": "code",
    "id": "0GgvR64zsUrK"
   },
   "outputs": [],
   "source": [
    "def linear_reg(X, y):\n",
    "  reg = LinearRegression()\n",
    "  \n",
    "  # cross validation to find average mean square error\n",
    "  scores = ms.cross_val_score(reg, X, y, scoring='neg_mean_squared_error', cv=5)\n",
    "  print(\"Linear Regression MSE = \", -scores.mean())\n",
    "\n",
    "  #build regressor\n",
    "  linear_clf = LinearRegression()\n",
    "  linear_clf = linear_clf.fit(X, y)\n",
    "\n",
    "  return -scores.mean(), linear_clf"
   ]
  },
  {
   "cell_type": "markdown",
   "metadata": {
    "colab_type": "text",
    "id": "t6AxPRTJUHz5"
   },
   "source": [
    "# Lasso Regression"
   ]
  },
  {
   "cell_type": "code",
   "execution_count": 0,
   "metadata": {
    "colab": {},
    "colab_type": "code",
    "id": "35-uxnCEkb-B"
   },
   "outputs": [],
   "source": [
    "def lasso_reg(X, y):\n",
    "  lasso = Lasso()\n",
    "  parameters = {\n",
    "      'alpha': list(np.arange(.01, .09, .01))\n",
    "  }\n",
    "  # determine the best parameter\n",
    "  lasso_grid = ms.GridSearchCV(lasso, parameters, scoring='neg_mean_squared_error', cv=5)\n",
    "  lasso_grid = lasso_grid.fit(X, y)\n",
    "  print(lasso_grid.best_params_)\n",
    "\n",
    "  # cross validation to find average mean square error\n",
    "  scores = ms.cross_val_score(lasso, X, y, cv=5, scoring='neg_mean_squared_error')\n",
    "  print(\"Lasso Regression MSE = \", -scores.mean())\n",
    "\n",
    "  # build the regressor\n",
    "  lasso_clf = Lasso(alpha=lasso_grid.best_params_['alpha'])\n",
    "  lasso_clf = lasso_clf.fit(X, y)\n",
    "  return -scores.mean(), lasso_clf"
   ]
  },
  {
   "cell_type": "markdown",
   "metadata": {
    "colab_type": "text",
    "id": "eB7GDqfSrX-I"
   },
   "source": [
    "#Main"
   ]
  },
  {
   "cell_type": "markdown",
   "metadata": {
    "colab_type": "text",
    "id": "h7gPFNqrroJ1"
   },
   "source": [
    "## Predict on companies"
   ]
  },
  {
   "cell_type": "code",
   "execution_count": 0,
   "metadata": {
    "colab": {},
    "colab_type": "code",
    "id": "xYJaRI1uQIvd"
   },
   "outputs": [],
   "source": [
    "def build_classifier(data):\n",
    "  data = removeNaN(data, True)\n",
    "  data = standardize(data, True)\n",
    "  X = data.drop(columns=['label'])\n",
    "  y = data['label'].values.reshape(-1,1)\n",
    "\n",
    "  lin_mse, lin_regr = linear_reg(X, y)\n",
    "  lasso_mse, lasso_regr = lasso_reg(X, y)\n",
    "\n",
    "  return lin_regr, lasso_regr, lin_mse, lasso_mse\n",
    "\n",
    "def predict_data(unlabeled_data, clf):\n",
    "  unlabeled_data = removeNaN(unlabeled_data, False)\n",
    "  unlabeled_data = standardize(unlabeled_data, False)\n",
    "  y_pred = clf.predict(unlabeled_data)\n",
    "  return y_pred"
   ]
  },
  {
   "cell_type": "markdown",
   "metadata": {
    "colab_type": "text",
    "id": "A6VfyEHprxbj"
   },
   "source": [
    "## read by industries and store result"
   ]
  },
  {
   "cell_type": "code",
   "execution_count": 0,
   "metadata": {
    "colab": {
     "base_uri": "https://localhost:8080/",
     "height": 1000
    },
    "colab_type": "code",
    "id": "QmyBvJjVqZxf",
    "outputId": "ddcccfc9-d5b1-48ec-f905-377b44ffe107"
   },
   "outputs": [
    {
     "name": "stdout",
     "output_type": "stream",
     "text": [
      "Accomodation & Food Services\n",
      "Linear Regression MSE =  1310584.7869188457\n",
      "{'alpha': 0.08}\n",
      "Lasso Regression MSE =  4.078019653029536\n",
      "Arts & Recreation\n",
      "Linear Regression MSE =  23.66479404870617\n",
      "{'alpha': 0.08}\n",
      "Lasso Regression MSE =  6.663651281517934\n",
      "Asset Management & Securities Brokerage\n",
      "Linear Regression MSE =  2.118692350819923\n",
      "{'alpha': 0.05}\n",
      "Lasso Regression MSE =  2.0825876679083235\n",
      "Banks\n",
      "Linear Regression MSE =  1.2299173367074467\n",
      "{'alpha': 0.08}\n",
      "Lasso Regression MSE =  1.026838955688444\n",
      "Business Support Services\n",
      "Linear Regression MSE =  11.231194778278184\n",
      "{'alpha': 0.02}\n",
      "Lasso Regression MSE =  11.14824239822111\n",
      "Chemical Products\n",
      "Linear Regression MSE =  23.69776317205442\n",
      "{'alpha': 0.08}\n",
      "Lasso Regression MSE =  22.846071843610112\n",
      "Computer Hardware & Electronics\n",
      "Linear Regression MSE =  6.746068333559758\n",
      "{'alpha': 0.08}\n",
      "Lasso Regression MSE =  6.274309715637725\n",
      "Conglomerates\n",
      "Linear Regression MSE =  4.054274301302574\n",
      "{'alpha': 0.08}\n",
      "Lasso Regression MSE =  2.5701522558458847\n",
      "Construction\n",
      "Linear Regression MSE =  2.319715247620342\n",
      "{'alpha': 0.08}\n",
      "Lasso Regression MSE =  1.8173315408259554\n",
      "Consumer Services\n",
      "Linear Regression MSE =  106.4978861232084\n",
      "{'alpha': 0.08}\n",
      "Lasso Regression MSE =  50.44281910322736\n",
      "Educational Services\n",
      "Linear Regression MSE =  13.405935753753345\n",
      "{'alpha': 0.08}\n",
      "Lasso Regression MSE =  4.044405031804866\n",
      "Food, Beverages, & Tobacco Manufacturing\n",
      "Linear Regression MSE =  3.8081333263298744\n",
      "{'alpha': 0.08}\n",
      "Lasso Regression MSE =  3.3394534926702732\n",
      "Forestry & Agriculture\n",
      "Linear Regression MSE =  2.6081334920259494\n",
      "{'alpha': 0.08}\n",
      "Lasso Regression MSE =  2.550463904050271\n",
      "Furniture & Textiles Manufacturing\n",
      "Linear Regression MSE =  6.764524642646776\n",
      "{'alpha': 0.08}\n",
      "Lasso Regression MSE =  5.8113896551026425\n",
      "Health Care & Social Assistance\n",
      "Linear Regression MSE =  1.4656940397630354\n",
      "{'alpha': 0.08}\n",
      "Lasso Regression MSE =  1.362834903038158\n",
      "Information Services\n",
      "Linear Regression MSE =  70818.44301962372\n",
      "{'alpha': 0.08}\n",
      "Lasso Regression MSE =  18.06725725187249\n",
      "Insurance Brokerage & Other\n",
      "Linear Regression MSE =  8.074414812467833\n",
      "{'alpha': 0.060000000000000005}\n",
      "Lasso Regression MSE =  7.963527910257956\n",
      "Manufacturing (Misc.)\n",
      "Linear Regression MSE =  464.2170458608304\n",
      "{'alpha': 0.05}\n",
      "Lasso Regression MSE =  10.714472907399216\n",
      "Merchant Wholesalers - Durable Goods\n",
      "Linear Regression MSE =  7.580621648907682\n",
      "{'alpha': 0.04}\n",
      "Lasso Regression MSE =  7.609975733255858\n",
      "Merchant Wholesalers - Non-Durable Goods\n",
      "Linear Regression MSE =  34.293522534869986\n",
      "{'alpha': 0.08}\n",
      "Lasso Regression MSE =  31.5888781511914\n",
      "Minerals Extraction\n",
      "Linear Regression MSE =  52.15256476742413\n",
      "{'alpha': 0.08}\n",
      "Lasso Regression MSE =  46.733726005485764\n",
      "Non-Bank Credit Services\n",
      "Linear Regression MSE =  3.526493197254535\n",
      "{'alpha': 0.05}\n",
      "Lasso Regression MSE =  1.2292908958158284\n",
      "Pharmaceuticals\n",
      "Linear Regression MSE =  40.343281760908624\n",
      "{'alpha': 0.08}\n",
      "Lasso Regression MSE =  39.053062557968516\n",
      "Professional, Scientific, & Technical Services\n",
      "Linear Regression MSE =  7.930408670733597\n",
      "{'alpha': 0.08}\n",
      "Lasso Regression MSE =  7.850037685929351\n",
      "Real Estate\n",
      "Linear Regression MSE =  220.33438331522296\n",
      "{'alpha': 0.08}\n",
      "Lasso Regression MSE =  217.46047690739186\n",
      "Rental and Leasing\n",
      "Linear Regression MSE =  38.922538177073406\n",
      "{'alpha': 0.08}\n",
      "Lasso Regression MSE =  11.318623089576011\n",
      "Specialty Retail\n",
      "Linear Regression MSE =  19.28959475466184\n",
      "{'alpha': 0.08}\n",
      "Lasso Regression MSE =  19.017577632357888\n",
      "Supermarkets & Convenience Stores\n",
      "Linear Regression MSE =  5.368667128935659\n",
      "{'alpha': 0.08}\n",
      "Lasso Regression MSE =  5.1107082175412675\n",
      "Transportation\n",
      "Linear Regression MSE =  5.676151270881503\n",
      "{'alpha': 0.08}\n",
      "Lasso Regression MSE =  5.645241270412072\n",
      "Utilities\n",
      "Linear Regression MSE =  10.086140585095007\n",
      "{'alpha': 0.08}\n",
      "Lasso Regression MSE =  9.888432471306498\n"
     ]
    }
   ],
   "source": [
    "lin_mse_all = np.array([])\n",
    "lasso_mse_all = np.array([])\n",
    "\n",
    "industries = pd.read_csv(cwd+'sector_list.csv', header=None)\n",
    "cwd2 = 'drive/My Drive/data mining project/data by sector/'\n",
    "cwd3 = 'drive/My Drive/data mining project/unlabeled data/'\n",
    "for i,row in industries.iterrows():\n",
    "  industry = row[0]\n",
    "  print(industry)\n",
    "  data = pd.read_csv(cwd2 + industry + '.csv')\n",
    "  unlabeled_data = pd.read_csv(cwd3 + industry + '.csv')\n",
    "  lin_regr, lasso_regr, lin_mse, lasso_mse = build_classifier(data)\n",
    "  lin_pred = predict_data(unlabeled_data, lin_regr)\n",
    "  lasso_pred = predict_data(unlabeled_data, lasso_regr)\n",
    "  unlabeled_data['lin_pred'] = lin_pred\n",
    "  unlabeled_data['lasso_pred'] = lasso_pred\n",
    "  lin_mse_all = np.append(lin_mse_all, lin_mse)\n",
    "  lasso_mse_all = np.append(lasso_mse_all, lasso_mse)\n",
    "  lin_df = pd.DataFrame(lin_pred)\n",
    "  lasso_df = pd.DataFrame(lasso_pred)\n",
    "  lin_df.to_csv('drive/My Drive/data mining project/linear_regression_result/' + industry + \".csv\", header=None, index=False)\n",
    "  lasso_df.to_csv('drive/My Drive/data mining project/lasso_regression_result/' + industry + \".csv\", header=None, index=False)"
   ]
  },
  {
   "cell_type": "code",
   "execution_count": 0,
   "metadata": {
    "colab": {},
    "colab_type": "code",
    "id": "fBHp6inO-zrE"
   },
   "outputs": [],
   "source": [
    "pd.DataFrame(lin_mse_all).to_csv('drive/My Drive/data mining project/linear_regression_result/' + \"mse.csv\", index=False, header = False)\n",
    "pd.DataFrame(lasso_mse_all).to_csv('drive/My Drive/data mining project/lasso_regression_result/' + \"mse.csv\", index=False, header = False)"
   ]
  }
 ],
 "metadata": {
  "colab": {
   "collapsed_sections": [],
   "name": "regression.ipynb",
   "provenance": []
  },
  "kernelspec": {
   "display_name": "Python 3",
   "language": "python",
   "name": "python3"
  },
  "language_info": {
   "codemirror_mode": {
    "name": "ipython",
    "version": 3
   },
   "file_extension": ".py",
   "mimetype": "text/x-python",
   "name": "python",
   "nbconvert_exporter": "python",
   "pygments_lexer": "ipython3",
   "version": "3.7.3"
  }
 },
 "nbformat": 4,
 "nbformat_minor": 1
}
