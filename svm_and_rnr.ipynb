{
 "cells": [
  {
   "cell_type": "code",
   "execution_count": 0,
   "metadata": {
    "colab": {},
    "colab_type": "code",
    "id": "88K9pdta_OgG"
   },
   "outputs": [],
   "source": [
    "import pandas as pd\n",
    "import numpy as np\n",
    "import sklearn.preprocessing as prep\n",
    "import sklearn.pipeline as pl\n",
    "import sklearn.svm as sv\n",
    "import sklearn.neighbors as nei\n",
    "import sklearn.metrics as mt\n",
    "import sklearn.model_selection as ms\n",
    "import matplotlib.pyplot as plt\n",
    "import warnings\n",
    "warnings.simplefilter(\"ignore\")"
   ]
  },
  {
   "cell_type": "code",
   "execution_count": 0,
   "metadata": {
    "colab": {
     "base_uri": "https://localhost:8080/",
     "height": 122
    },
    "colab_type": "code",
    "id": "D4Y0tnSkEXw5",
    "outputId": "0c05016a-c6c2-4637-80e4-a4e4cda42bd1"
   },
   "outputs": [
    {
     "name": "stdout",
     "output_type": "stream",
     "text": [
      "Go to this URL in a browser: https://accounts.google.com/o/oauth2/auth?client_id=947318989803-6bn6qk8qdgf4n4g3pfee6491hc0brc4i.apps.googleusercontent.com&redirect_uri=urn%3aietf%3awg%3aoauth%3a2.0%3aoob&response_type=code&scope=email%20https%3a%2f%2fwww.googleapis.com%2fauth%2fdocs.test%20https%3a%2f%2fwww.googleapis.com%2fauth%2fdrive%20https%3a%2f%2fwww.googleapis.com%2fauth%2fdrive.photos.readonly%20https%3a%2f%2fwww.googleapis.com%2fauth%2fpeopleapi.readonly\n",
      "\n",
      "Enter your authorization code:\n",
      "··········\n",
      "Mounted at /content/drive\n"
     ]
    }
   ],
   "source": [
    "# If you haven't mounted your drive yet, do so by running this code.\n",
    "from google.colab import drive\n",
    "drive.mount('/content/drive')"
   ]
  },
  {
   "cell_type": "code",
   "execution_count": 0,
   "metadata": {
    "colab": {},
    "colab_type": "code",
    "id": "PxB8bT9fEYrr"
   },
   "outputs": [],
   "source": [
    "# Set the current working directory\n",
    "data_cwd = 'drive/My Drive/data mining project/data by sector/'\n",
    "unlabeled_cwd = 'drive/My Drive/data mining project/unlabeled data/'\n",
    "svm_result_cwd = 'drive/My Drive/data mining project/sv_regression_result/'\n",
    "rnr_result_cwd = 'drive/My Drive/data mining project/radius_nearest_neignbor_regression_result/'\n",
    "sector_list = pd.read_csv('drive/My Drive/data mining project/sector_list.csv', header=None)"
   ]
  },
  {
   "cell_type": "markdown",
   "metadata": {
    "colab_type": "text",
    "id": "kjzjzng-YDeA"
   },
   "source": [
    "# Pre-processing"
   ]
  },
  {
   "cell_type": "markdown",
   "metadata": {
    "colab_type": "text",
    "id": "ounL0BXRYL3J"
   },
   "source": [
    "## remove columns that most values are NaN and remove outliers"
   ]
  },
  {
   "cell_type": "code",
   "execution_count": 0,
   "metadata": {
    "colab": {},
    "colab_type": "code",
    "id": "IEccalE7YTp2"
   },
   "outputs": [],
   "source": [
    "def removeNaN(df, has_label):\n",
    "  df = df.dropna(axis=1)\n",
    "  if has_label:\n",
    "    df = df[np.abs(df['label'] - df['label'].mean()) < 3 * df['label'].std()]\n",
    "  df = df.drop(labels=['symbol', 'industry', 'period_end_date'], axis=1)\n",
    "  return df\n"
   ]
  },
  {
   "cell_type": "markdown",
   "metadata": {
    "colab_type": "text",
    "id": "sS1yQp-z31ky"
   },
   "source": [
    "## separate labels and features"
   ]
  },
  {
   "cell_type": "code",
   "execution_count": 0,
   "metadata": {
    "colab": {},
    "colab_type": "code",
    "id": "x0VTQ1vq3y-t"
   },
   "outputs": [],
   "source": [
    "def split_dataset(df):\n",
    "  labels = df['label']\n",
    "  features = df.drop('label', 1)\n",
    "  return labels, features"
   ]
  },
  {
   "cell_type": "markdown",
   "metadata": {
    "colab_type": "text",
    "id": "HUthiClWFWDs"
   },
   "source": [
    "## normalize features"
   ]
  },
  {
   "cell_type": "code",
   "execution_count": 0,
   "metadata": {
    "colab": {},
    "colab_type": "code",
    "id": "wW0ENm0MFYen"
   },
   "outputs": [],
   "source": [
    "def normalize(feature):\n",
    "  std_scaler = prep.StandardScaler(with_mean=True)\n",
    "  std_scaler.fit(feature)\n",
    "  return pd.DataFrame(std_scaler.transform(feature)), std_scaler"
   ]
  },
  {
   "cell_type": "markdown",
   "metadata": {
    "colab_type": "text",
    "id": "Hk61W_9h5bCH"
   },
   "source": [
    "# SVM"
   ]
  },
  {
   "cell_type": "code",
   "execution_count": 0,
   "metadata": {
    "colab": {},
    "colab_type": "code",
    "id": "6zZV8NMK5eH7"
   },
   "outputs": [],
   "source": [
    "def svm_train(feature, label):\n",
    "  svm = sv.SVR()\n",
    "  svm_grid = {\n",
    "    'kernel': ['linear', 'rbf', 'poly'],\n",
    "    'degree': range(1, 5)\n",
    "  }\n",
    "  # determine the best parameter\n",
    "  svm_grid = ms.GridSearchCV(cv = 5, param_grid = svm_grid, estimator = svm)\n",
    "  svm_grid = svm_grid.fit(feature, label)\n",
    "  print(svm_grid.best_params_)\n",
    "\n",
    "  # cross validation to find average mean square error\n",
    "  svm_acc = ms.cross_val_score(svm_grid, feature, label, cv=5, scoring='neg_mean_squared_error')\n",
    "  print(\"SVR MSE = \" + str(-svm_acc.mean()))\n",
    "\n",
    "  # build the regressor\n",
    "  svm_clf = sv.SVR(kernel=svm_grid.best_params_['kernel'], degree=svm_grid.best_params_['degree'])\n",
    "  svm_clf = svm_clf.fit(feature, label)\n",
    "  return -svm_acc.mean(), svm_clf"
   ]
  },
  {
   "cell_type": "markdown",
   "metadata": {
    "colab_type": "text",
    "id": "7PAzwUSMp-Kc"
   },
   "source": [
    "# Radius Neighbors Regressor"
   ]
  },
  {
   "cell_type": "code",
   "execution_count": 0,
   "metadata": {
    "colab": {},
    "colab_type": "code",
    "id": "hYl-9nxUp9T1"
   },
   "outputs": [],
   "source": [
    "def rnr_train(feature, label):\n",
    "  rnr = nei.RadiusNeighborsRegressor(radius=5)\n",
    "  # cross validation to find the mean square error\n",
    "  size = len(label) // 5\n",
    "  score = 0\n",
    "  for i in range(0, 5):\n",
    "    test_set = feature[i * size: (i+1) * size]\n",
    "    train_set = pd.concat([feature[: i*size], feature[(i+1)*size :]])\n",
    "    test_label = label[i * size: (i+1) * size]\n",
    "    train_label = pd.concat([label[: i*size], label[(i+1)*size :]])\n",
    "\n",
    "    rnr_clf = rnr.fit(train_set, train_label)\n",
    "    pred = np.nan_to_num(rnr_clf.predict(test_set))\n",
    "    score += mt.mean_squared_error(test_label, pred)\n",
    "\n",
    "  # create the regressor\n",
    "  rnr = rnr.fit(feature, label)\n",
    "  rnr_acc = score / 5\n",
    "  print(\"RNR MSE = \" + str(rnr_acc))\n",
    "  return rnr_acc, rnr"
   ]
  },
  {
   "cell_type": "markdown",
   "metadata": {
    "colab_type": "text",
    "id": "moDxJLgS2ITW"
   },
   "source": [
    "# Main"
   ]
  },
  {
   "cell_type": "markdown",
   "metadata": {
    "colab_type": "text",
    "id": "NQSbEG_zMiZ_"
   },
   "source": [
    "## predict on companies"
   ]
  },
  {
   "cell_type": "code",
   "execution_count": 0,
   "metadata": {
    "colab": {},
    "colab_type": "code",
    "id": "w2jbkFeNXmGi"
   },
   "outputs": [],
   "source": [
    "def build_classifier(file_name):\n",
    "  data = pd.read_csv(data_cwd + file_name + \".csv\")\n",
    "  \n",
    "  company = removeNaN(data, True)\n",
    "  label, feature = split_dataset(company)\n",
    "  feature, std_scl = normalize(feature)\n",
    "  svm_acc, svm_clf = svm_train(feature, label)\n",
    "  rnr_acc, rnr_clf = rnr_train(feature, label)\n",
    "\n",
    "  return svm_clf, rnr_clf, svm_acc, rnr_acc, std_scl\n",
    "\n",
    "\n",
    "def predict_data(file_name, clf, std_scl):\n",
    "  unlabeled = pd.read_csv(unlabeled_cwd + file_name + \".csv\")\n",
    "  feature = removeNaN(unlabeled, False)\n",
    "  feature = std_scl.transform(feature)\n",
    "  result = clf.predict(feature)\n",
    "  result = np.nan_to_num(result)\n",
    "  return result"
   ]
  },
  {
   "cell_type": "markdown",
   "metadata": {
    "colab_type": "text",
    "id": "qX7FzyupMtj5"
   },
   "source": [
    "## read by industries, store the results"
   ]
  },
  {
   "cell_type": "code",
   "execution_count": 0,
   "metadata": {
    "colab": {},
    "colab_type": "code",
    "id": "5FJwvMKbMhq0"
   },
   "outputs": [],
   "source": [
    "svm_mse = np.array([])\n",
    "rnr_mse = np.array([])"
   ]
  },
  {
   "cell_type": "code",
   "execution_count": 0,
   "metadata": {
    "colab": {
     "base_uri": "https://localhost:8080/",
     "height": 1000
    },
    "colab_type": "code",
    "id": "3q-CFkFFM0bK",
    "outputId": "11602dd8-decb-4679-c5c0-5cae2086060d"
   },
   "outputs": [
    {
     "name": "stdout",
     "output_type": "stream",
     "text": [
      "Accomodation & Food Services\n",
      "{'degree': 1, 'kernel': 'rbf'}\n",
      "SVR MSE = 4.017492500422887\n",
      "RNR MSE = 4.0866832379690825\n",
      "Arts & Recreation\n",
      "{'degree': 1, 'kernel': 'rbf'}\n",
      "SVR MSE = 6.615512126249724\n",
      "RNR MSE = 6.635603665073818\n",
      "Asset Management & Securities Brokerage\n",
      "{'degree': 1, 'kernel': 'rbf'}\n",
      "SVR MSE = 2.043164527396328\n",
      "RNR MSE = 2.0836830396999075\n",
      "Banks\n",
      "{'degree': 1, 'kernel': 'rbf'}\n",
      "SVR MSE = 1.0238550715837769\n",
      "RNR MSE = 1.0252711217746224\n",
      "Business Support Services\n",
      "{'degree': 1, 'kernel': 'rbf'}\n",
      "SVR MSE = 11.109322409556434\n",
      "RNR MSE = 11.159389588402135\n",
      "Chemical Products\n",
      "{'degree': 1, 'kernel': 'rbf'}\n",
      "SVR MSE = 22.673319427316095\n",
      "RNR MSE = 22.97806703732274\n",
      "Computer Hardware & Electronics\n",
      "{'degree': 1, 'kernel': 'poly'}\n",
      "SVR MSE = 6.259612067694475\n",
      "RNR MSE = 6.417054894006529\n",
      "Conglomerates\n",
      "{'degree': 2, 'kernel': 'poly'}\n",
      "SVR MSE = 2.3855597899310728\n",
      "RNR MSE = 2.6282977704346573\n",
      "Construction\n",
      "{'degree': 1, 'kernel': 'poly'}\n",
      "SVR MSE = 1.8477471420321432\n",
      "RNR MSE = 1.912479542489002\n",
      "Consumer Services\n",
      "{'degree': 2, 'kernel': 'poly'}\n",
      "SVR MSE = 49.30610012961637\n",
      "RNR MSE = 52.30322838958723\n",
      "Educational Services\n",
      "{'degree': 2, 'kernel': 'poly'}\n",
      "SVR MSE = 3.5441322820594907\n",
      "RNR MSE = 4.277779023028275\n",
      "Food, Beverages, & Tobacco Manufacturing\n",
      "{'degree': 1, 'kernel': 'rbf'}\n",
      "SVR MSE = 3.2987760606569294\n",
      "RNR MSE = 3.346412649789697\n",
      "Forestry & Agriculture\n",
      "{'degree': 1, 'kernel': 'poly'}\n",
      "SVR MSE = 2.54299037543624\n",
      "RNR MSE = 2.467194124067697\n",
      "Furniture & Textiles Manufacturing\n",
      "{'degree': 1, 'kernel': 'rbf'}\n",
      "SVR MSE = 5.415830816333224\n",
      "RNR MSE = 5.80095205942032\n",
      "Health Care & Social Assistance\n",
      "{'degree': 1, 'kernel': 'rbf'}\n",
      "SVR MSE = 1.3188595751297625\n",
      "RNR MSE = 1.4612011556973568\n",
      "Information Services\n",
      "{'degree': 1, 'kernel': 'rbf'}\n",
      "SVR MSE = 18.100050446024618\n",
      "RNR MSE = 18.167104466783908\n",
      "Insurance Brokerage & Other\n",
      "{'degree': 1, 'kernel': 'rbf'}\n",
      "SVR MSE = 7.946490126039092\n",
      "RNR MSE = 7.980095209864885\n",
      "Manufacturing (Misc.)\n",
      "{'degree': 1, 'kernel': 'rbf'}\n",
      "SVR MSE = 10.645440872506805\n",
      "RNR MSE = 10.723523265801992\n",
      "Merchant Wholesalers - Durable Goods\n",
      "{'degree': 1, 'kernel': 'rbf'}\n",
      "SVR MSE = 7.3446934140228395\n",
      "RNR MSE = 8.154209867199588\n",
      "Merchant Wholesalers - Non-Durable Goods\n",
      "{'degree': 1, 'kernel': 'rbf'}\n",
      "SVR MSE = 31.546938075513065\n",
      "RNR MSE = 31.675770210338477\n",
      "Minerals Extraction\n",
      "{'degree': 1, 'kernel': 'rbf'}\n",
      "SVR MSE = 46.73775418419647\n",
      "RNR MSE = 46.939429843709284\n",
      "Non-Bank Credit Services\n",
      "{'degree': 1, 'kernel': 'rbf'}\n",
      "SVR MSE = 1.1579946540307087\n",
      "RNR MSE = 1.2054019046757198\n",
      "Pharmaceuticals\n",
      "{'degree': 1, 'kernel': 'rbf'}\n",
      "SVR MSE = 39.001948609738186\n",
      "RNR MSE = 39.203590153079965\n",
      "Professional, Scientific, & Technical Services\n",
      "{'degree': 1, 'kernel': 'poly'}\n",
      "SVR MSE = 7.830179725899088\n",
      "RNR MSE = 7.9530972519691066\n",
      "Real Estate\n",
      "{'degree': 1, 'kernel': 'rbf'}\n",
      "SVR MSE = 217.1285300412601\n",
      "RNR MSE = 202.958227975591\n",
      "Rental and Leasing\n",
      "{'degree': 1, 'kernel': 'rbf'}\n",
      "SVR MSE = 10.989818236234985\n",
      "RNR MSE = 12.657934208051305\n",
      "Specialty Retail\n",
      "{'degree': 1, 'kernel': 'rbf'}\n",
      "SVR MSE = 18.224433683585893\n",
      "RNR MSE = 19.327741780843155\n",
      "Supermarkets & Convenience Stores\n",
      "{'degree': 1, 'kernel': 'rbf'}\n",
      "SVR MSE = 4.95299107548462\n",
      "RNR MSE = 5.057045202293307\n",
      "Transportation\n",
      "{'degree': 1, 'kernel': 'rbf'}\n",
      "SVR MSE = 5.603534776456449\n",
      "RNR MSE = 5.815791628090141\n",
      "Utilities\n",
      "{'degree': 1, 'kernel': 'rbf'}\n",
      "SVR MSE = 9.72969430491444\n",
      "RNR MSE = 10.046293930351515\n"
     ]
    }
   ],
   "source": [
    "for industry in sector_list.iterrows():\n",
    "  ind_name = industry[1][0]\n",
    "  print(ind_name)\n",
    "  svm_clf, rnr_clf, svm_acc, rnr_acc, std_scl = build_classifier(ind_name)\n",
    "  svm_result = predict_data(ind_name, svm_clf, std_scl)\n",
    "  rnr_result = predict_data(ind_name, rnr_clf, std_scl)\n",
    "\n",
    "  svm_mse = np.append(svm_mse, svm_acc)\n",
    "  rnr_mse = np.append(rnr_mse, rnr_acc)\n",
    "\n",
    "  pd.DataFrame(svm_result).to_csv(svm_result_cwd + ind_name + \".csv\", index=False, header=False)\n",
    "  pd.DataFrame(rnr_result).to_csv(rnr_result_cwd + ind_name + \".csv\", index=False, header=False)\n",
    "\n"
   ]
  },
  {
   "cell_type": "code",
   "execution_count": 0,
   "metadata": {
    "colab": {},
    "colab_type": "code",
    "id": "Zd2hrKnGOaEf"
   },
   "outputs": [],
   "source": [
    "pd.DataFrame(svm_mse).to_csv(svm_result_cwd + \"mse.csv\", index=False, header = False)\n",
    "pd.DataFrame(rnr_mse).to_csv(rnr_result_cwd + \"mse.csv\", index=False, header = False)"
   ]
  },
  {
   "cell_type": "markdown",
   "metadata": {
    "colab_type": "text",
    "id": "P1UC83bhSQdu"
   },
   "source": [
    "# Mean Square Error for naive prediction (average)"
   ]
  },
  {
   "cell_type": "code",
   "execution_count": 0,
   "metadata": {
    "colab": {
     "base_uri": "https://localhost:8080/",
     "height": 979
    },
    "colab_type": "code",
    "id": "qvz-yZnIOo74",
    "outputId": "2e2c749c-1caa-49ff-b7f5-57d469a22289"
   },
   "outputs": [
    {
     "data": {
      "text/html": [
       "<div>\n",
       "<style scoped>\n",
       "    .dataframe tbody tr th:only-of-type {\n",
       "        vertical-align: middle;\n",
       "    }\n",
       "\n",
       "    .dataframe tbody tr th {\n",
       "        vertical-align: top;\n",
       "    }\n",
       "\n",
       "    .dataframe thead th {\n",
       "        text-align: right;\n",
       "    }\n",
       "</style>\n",
       "<table border=\"1\" class=\"dataframe\">\n",
       "  <thead>\n",
       "    <tr style=\"text-align: right;\">\n",
       "      <th></th>\n",
       "      <th>industry</th>\n",
       "      <th>mean sq error</th>\n",
       "    </tr>\n",
       "  </thead>\n",
       "  <tbody>\n",
       "    <tr>\n",
       "      <th>0</th>\n",
       "      <td>Accomodation &amp; Food Services</td>\n",
       "      <td>35.357177</td>\n",
       "    </tr>\n",
       "    <tr>\n",
       "      <th>1</th>\n",
       "      <td>Arts &amp; Recreation</td>\n",
       "      <td>405.041865</td>\n",
       "    </tr>\n",
       "    <tr>\n",
       "      <th>2</th>\n",
       "      <td>Asset Management &amp; Securities Brokerage</td>\n",
       "      <td>30.017355</td>\n",
       "    </tr>\n",
       "    <tr>\n",
       "      <th>3</th>\n",
       "      <td>Banks</td>\n",
       "      <td>9.719772</td>\n",
       "    </tr>\n",
       "    <tr>\n",
       "      <th>4</th>\n",
       "      <td>Business Support Services</td>\n",
       "      <td>688.572714</td>\n",
       "    </tr>\n",
       "    <tr>\n",
       "      <th>5</th>\n",
       "      <td>Chemical Products</td>\n",
       "      <td>379.276387</td>\n",
       "    </tr>\n",
       "    <tr>\n",
       "      <th>6</th>\n",
       "      <td>Computer Hardware &amp; Electronics</td>\n",
       "      <td>79.443579</td>\n",
       "    </tr>\n",
       "    <tr>\n",
       "      <th>7</th>\n",
       "      <td>Conglomerates</td>\n",
       "      <td>11.287251</td>\n",
       "    </tr>\n",
       "    <tr>\n",
       "      <th>8</th>\n",
       "      <td>Construction</td>\n",
       "      <td>15.845251</td>\n",
       "    </tr>\n",
       "    <tr>\n",
       "      <th>9</th>\n",
       "      <td>Consumer Services</td>\n",
       "      <td>318.958884</td>\n",
       "    </tr>\n",
       "    <tr>\n",
       "      <th>10</th>\n",
       "      <td>Educational Services</td>\n",
       "      <td>6.449166</td>\n",
       "    </tr>\n",
       "    <tr>\n",
       "      <th>11</th>\n",
       "      <td>Food, Beverages, &amp; Tobacco Manufacturing</td>\n",
       "      <td>70.498799</td>\n",
       "    </tr>\n",
       "    <tr>\n",
       "      <th>12</th>\n",
       "      <td>Forestry &amp; Agriculture</td>\n",
       "      <td>14.039632</td>\n",
       "    </tr>\n",
       "    <tr>\n",
       "      <th>13</th>\n",
       "      <td>Furniture &amp; Textiles Manufacturing</td>\n",
       "      <td>34.595290</td>\n",
       "    </tr>\n",
       "    <tr>\n",
       "      <th>14</th>\n",
       "      <td>Health Care &amp; Social Assistance</td>\n",
       "      <td>9.182921</td>\n",
       "    </tr>\n",
       "    <tr>\n",
       "      <th>15</th>\n",
       "      <td>Information Services</td>\n",
       "      <td>362.550224</td>\n",
       "    </tr>\n",
       "    <tr>\n",
       "      <th>16</th>\n",
       "      <td>Insurance Brokerage &amp; Other</td>\n",
       "      <td>110.442382</td>\n",
       "    </tr>\n",
       "    <tr>\n",
       "      <th>17</th>\n",
       "      <td>Manufacturing (Misc.)</td>\n",
       "      <td>200.477883</td>\n",
       "    </tr>\n",
       "    <tr>\n",
       "      <th>18</th>\n",
       "      <td>Merchant Wholesalers - Durable Goods</td>\n",
       "      <td>108.994436</td>\n",
       "    </tr>\n",
       "    <tr>\n",
       "      <th>19</th>\n",
       "      <td>Merchant Wholesalers - Non-Durable Goods</td>\n",
       "      <td>1793.402601</td>\n",
       "    </tr>\n",
       "    <tr>\n",
       "      <th>20</th>\n",
       "      <td>Minerals Extraction</td>\n",
       "      <td>1269.997565</td>\n",
       "    </tr>\n",
       "    <tr>\n",
       "      <th>21</th>\n",
       "      <td>Non-Bank Credit Services</td>\n",
       "      <td>20.462229</td>\n",
       "    </tr>\n",
       "    <tr>\n",
       "      <th>22</th>\n",
       "      <td>Pharmaceuticals</td>\n",
       "      <td>8230.478836</td>\n",
       "    </tr>\n",
       "    <tr>\n",
       "      <th>23</th>\n",
       "      <td>Professional, Scientific, &amp; Technical Services</td>\n",
       "      <td>118.373806</td>\n",
       "    </tr>\n",
       "    <tr>\n",
       "      <th>24</th>\n",
       "      <td>Real Estate</td>\n",
       "      <td>118327.688218</td>\n",
       "    </tr>\n",
       "    <tr>\n",
       "      <th>25</th>\n",
       "      <td>Rental and Leasing</td>\n",
       "      <td>112.266767</td>\n",
       "    </tr>\n",
       "    <tr>\n",
       "      <th>26</th>\n",
       "      <td>Specialty Retail</td>\n",
       "      <td>439.827289</td>\n",
       "    </tr>\n",
       "    <tr>\n",
       "      <th>27</th>\n",
       "      <td>Supermarkets &amp; Convenience Stores</td>\n",
       "      <td>116.098368</td>\n",
       "    </tr>\n",
       "    <tr>\n",
       "      <th>28</th>\n",
       "      <td>Transportation</td>\n",
       "      <td>147.562845</td>\n",
       "    </tr>\n",
       "    <tr>\n",
       "      <th>29</th>\n",
       "      <td>Utilities</td>\n",
       "      <td>94.872265</td>\n",
       "    </tr>\n",
       "  </tbody>\n",
       "</table>\n",
       "</div>"
      ],
      "text/plain": [
       "                                          industry  mean sq error\n",
       "0                     Accomodation & Food Services      35.357177\n",
       "1                                Arts & Recreation     405.041865\n",
       "2          Asset Management & Securities Brokerage      30.017355\n",
       "3                                            Banks       9.719772\n",
       "4                        Business Support Services     688.572714\n",
       "5                                Chemical Products     379.276387\n",
       "6                  Computer Hardware & Electronics      79.443579\n",
       "7                                    Conglomerates      11.287251\n",
       "8                                     Construction      15.845251\n",
       "9                                Consumer Services     318.958884\n",
       "10                            Educational Services       6.449166\n",
       "11        Food, Beverages, & Tobacco Manufacturing      70.498799\n",
       "12                          Forestry & Agriculture      14.039632\n",
       "13              Furniture & Textiles Manufacturing      34.595290\n",
       "14                 Health Care & Social Assistance       9.182921\n",
       "15                            Information Services     362.550224\n",
       "16                     Insurance Brokerage & Other     110.442382\n",
       "17                           Manufacturing (Misc.)     200.477883\n",
       "18            Merchant Wholesalers - Durable Goods     108.994436\n",
       "19        Merchant Wholesalers - Non-Durable Goods    1793.402601\n",
       "20                             Minerals Extraction    1269.997565\n",
       "21                        Non-Bank Credit Services      20.462229\n",
       "22                                 Pharmaceuticals    8230.478836\n",
       "23  Professional, Scientific, & Technical Services     118.373806\n",
       "24                                     Real Estate  118327.688218\n",
       "25                              Rental and Leasing     112.266767\n",
       "26                                Specialty Retail     439.827289\n",
       "27               Supermarkets & Convenience Stores     116.098368\n",
       "28                                  Transportation     147.562845\n",
       "29                                       Utilities      94.872265"
      ]
     },
     "execution_count": 18,
     "metadata": {
      "tags": []
     },
     "output_type": "execute_result"
    }
   ],
   "source": [
    "errors = []\n",
    "for industry in sector_list.iterrows():\n",
    "  ind_name = industry[1][0]\n",
    "  d = pd.read_csv(data_cwd +ind_name + \".csv\")\n",
    "  res = d['label']\n",
    "  avg = d['label'].mean()\n",
    "  pre = pd.Series([avg for x in range(len(d.index))])\n",
    "  errors.append([ind_name, mt.mean_squared_error(pre, res)])\n",
    "df = pd.DataFrame(errors, columns = ['industry', 'mean sq error'])\n",
    "df.head(30)"
   ]
  },
  {
   "cell_type": "code",
   "execution_count": 0,
   "metadata": {
    "colab": {},
    "colab_type": "code",
    "id": "B11l_kvHQnFx"
   },
   "outputs": [],
   "source": [
    "df.to_csv(\"drive/My Drive/data mining project/Initial_MSE.csv\", index=False, header=False)"
   ]
  },
  {
   "cell_type": "code",
   "execution_count": 0,
   "metadata": {
    "colab": {},
    "colab_type": "code",
    "id": "S2h8mKjxSquu"
   },
   "outputs": [],
   "source": []
  }
 ],
 "metadata": {
  "colab": {
   "collapsed_sections": [
    "P1UC83bhSQdu"
   ],
   "name": "svm_and_rnr.ipynb",
   "provenance": [],
   "toc_visible": true
  },
  "kernelspec": {
   "display_name": "Python 3",
   "language": "python",
   "name": "python3"
  },
  "language_info": {
   "codemirror_mode": {
    "name": "ipython",
    "version": 3
   },
   "file_extension": ".py",
   "mimetype": "text/x-python",
   "name": "python",
   "nbconvert_exporter": "python",
   "pygments_lexer": "ipython3",
   "version": "3.7.3"
  }
 },
 "nbformat": 4,
 "nbformat_minor": 1
}
