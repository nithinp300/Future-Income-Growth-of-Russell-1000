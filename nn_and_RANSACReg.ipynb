{
  "nbformat": 4,
  "nbformat_minor": 0,
  "metadata": {
    "kernelspec": {
      "display_name": "Python 3",
      "language": "python",
      "name": "python3"
    },
    "language_info": {
      "codemirror_mode": {
        "name": "ipython",
        "version": 3
      },
      "file_extension": ".py",
      "mimetype": "text/x-python",
      "name": "python",
      "nbconvert_exporter": "python",
      "pygments_lexer": "ipython3",
      "version": "3.7.3"
    },
    "colab": {
      "name": "nn_and_RANSACReg.ipynb",
      "provenance": [],
      "collapsed_sections": []
    }
  },
  "cells": [
    {
      "cell_type": "code",
      "metadata": {
        "id": "jHxrdGgRHa-9",
        "colab_type": "code",
        "colab": {}
      },
      "source": [
        "import pandas as pd\n",
        "import numpy as np\n",
        "import sklearn.preprocessing as prep\n",
        "import sklearn.pipeline as pl\n",
        "import sklearn.svm as sv\n",
        "import sklearn.neighbors as nei\n",
        "import sklearn.metrics as mt\n",
        "import sklearn.model_selection as ms\n",
        "import matplotlib.pyplot as plt\n",
        "import warnings\n",
        "import sklearn.neural_network as nn\n",
        "from sklearn.linear_model import RANSACRegressor\n",
        "warnings.simplefilter(\"ignore\")"
      ],
      "execution_count": 0,
      "outputs": []
    },
    {
      "cell_type": "code",
      "metadata": {
        "id": "mxgyb5WEMd_V",
        "colab_type": "code",
        "outputId": "8db238f7-59d1-4b94-ec44-7ac762d85602",
        "colab": {
          "base_uri": "https://localhost:8080/",
          "height": 122
        }
      },
      "source": [
        "# If you haven't mounted your drive yet, do so by running this code.\n",
        "from google.colab import drive\n",
        "drive.mount('/content/drive')"
      ],
      "execution_count": 0,
      "outputs": [
        {
          "output_type": "stream",
          "text": [
            "Go to this URL in a browser: https://accounts.google.com/o/oauth2/auth?client_id=947318989803-6bn6qk8qdgf4n4g3pfee6491hc0brc4i.apps.googleusercontent.com&redirect_uri=urn%3aietf%3awg%3aoauth%3a2.0%3aoob&response_type=code&scope=email%20https%3a%2f%2fwww.googleapis.com%2fauth%2fdocs.test%20https%3a%2f%2fwww.googleapis.com%2fauth%2fdrive%20https%3a%2f%2fwww.googleapis.com%2fauth%2fdrive.photos.readonly%20https%3a%2f%2fwww.googleapis.com%2fauth%2fpeopleapi.readonly\n",
            "\n",
            "Enter your authorization code:\n",
            "··········\n",
            "Mounted at /content/drive\n"
          ],
          "name": "stdout"
        }
      ]
    },
    {
      "cell_type": "code",
      "metadata": {
        "id": "web14BV6L7AI",
        "colab_type": "code",
        "colab": {}
      },
      "source": [
        "# Set the current working directory\n",
        "data_cwd = 'drive/My Drive/data mining project/data by sector/'\n",
        "unlabeled_cwd = 'drive/My Drive/data mining project/unlabeled data/'\n",
        "rlp_result_cwd = 'drive/My Drive/data mining project/rlp_regression_result/'\n",
        "ran_result_cwd = 'drive/My Drive/data mining project/RANSAC_regression_result/'\n",
        "sector_list = pd.read_csv('drive/My Drive/data mining project/sector_list.csv', header=None)"
      ],
      "execution_count": 0,
      "outputs": []
    },
    {
      "cell_type": "markdown",
      "metadata": {
        "id": "Gb8PSgNP9Wx4",
        "colab_type": "text"
      },
      "source": [
        "# Pre-Process"
      ]
    },
    {
      "cell_type": "code",
      "metadata": {
        "id": "xBERbUr5Ha_C",
        "colab_type": "code",
        "colab": {}
      },
      "source": [
        "def removeNaN(df, has_label):\n",
        "  df = df.dropna(axis=1)\n",
        "  if has_label:\n",
        "    df = df[np.abs(df['label'] - df['label'].mean()) < 3 * df['label'].std()]\n",
        "  df = df.drop(labels=['symbol', 'industry', 'period_end_date'], axis=1)\n",
        "  return df\n",
        "\n",
        "def split_dataset(df):\n",
        "  labels = df['label']\n",
        "  features = df.drop('label', 1)\n",
        "  return labels, features\n",
        "\n",
        "def normalize(feature):\n",
        "  std_scaler = prep.StandardScaler(with_mean=True)\n",
        "  std_scaler.fit(feature)\n",
        "  return pd.DataFrame(std_scaler.transform(feature)), std_scaler"
      ],
      "execution_count": 0,
      "outputs": []
    },
    {
      "cell_type": "markdown",
      "metadata": {
        "id": "ouaatOdL9b4r",
        "colab_type": "text"
      },
      "source": [
        "# Training Regressors"
      ]
    },
    {
      "cell_type": "code",
      "metadata": {
        "id": "ZePhkbtSHa_E",
        "colab_type": "code",
        "colab": {}
      },
      "source": [
        "def nn_train(features, labels):\n",
        "    mlp = nn.MLPRegressor()\n",
        "    mlp_grid = {\n",
        "      'hidden_layer_sizes': [(30,),(40,),(50,),(60,)],\n",
        "      'activation': ['logistic', 'tanh', 'relu']\n",
        "    }\n",
        "    mlp_clf = ms.GridSearchCV(cv = 5, param_grid = mlp_grid, estimator = mlp)\n",
        "    \n",
        "    mlp_clf = mlp_clf.fit(features, labels)\n",
        "    mlp = nn.MLPRegressor(hidden_layer_sizes = mlp_clf.best_params_['hidden_layer_sizes'][0],\n",
        "                     activation = mlp_clf.best_params_['activation'])\n",
        "    \n",
        "    # cross validation to find the mean square error\n",
        "    size = len(labels) // 5\n",
        "    score = 0\n",
        "    for i in range(0, 5):\n",
        "      test_set = features[i * size: (i+1) * size]\n",
        "      train_set = pd.concat([features[: i*size], features[(i+1)*size :]])\n",
        "      test_label = labels[i * size: (i+1) * size]\n",
        "      train_label = pd.concat([labels[: i*size], labels[(i+1)*size :]])\n",
        "\n",
        "      rnr_clf = mlp.fit(train_set, train_label)\n",
        "      pred = np.nan_to_num(rnr_clf.predict(test_set))\n",
        "      score += mt.mean_squared_error(test_label, pred)\n",
        "\n",
        "    print(\"MLP MSE is: \" + str(score/5))\n",
        "    mlp = mlp.fit(features, labels)\n",
        "    \n",
        "    return score/5, mlp\n",
        "\n",
        "def RANSAC_train(features, labels):\n",
        "    reg = RANSACRegressor(random_state=0)\n",
        "    reg = RANSACRegressor(random_state=0).fit(features, labels)\n",
        "    scores = ms.cross_val_score(reg, features, labels, cv = 5, scoring ='neg_mean_squared_error')\n",
        "    print(\"RANSAC MSE is: \" + str(-scores.mean()))\n",
        "    return -scores.mean(), reg\n"
      ],
      "execution_count": 0,
      "outputs": []
    },
    {
      "cell_type": "markdown",
      "metadata": {
        "id": "ficJQbPf9gdm",
        "colab_type": "text"
      },
      "source": [
        "# Main"
      ]
    },
    {
      "cell_type": "code",
      "metadata": {
        "id": "ZVPYLTAAJcCn",
        "colab_type": "code",
        "colab": {}
      },
      "source": [
        "def build_classifier(file_name):\n",
        "  data = pd.read_csv(data_cwd + file_name + \".csv\")\n",
        "  \n",
        "  company = removeNaN(data, True)\n",
        "  label, feature = split_dataset(company)\n",
        "  feature, std_scl = normalize(feature)\n",
        "  rlp_acc, rlp_clf = nn_train(feature, label)\n",
        "  ran_acc, ran_clf = RANSAC_train(feature, label)\n",
        "\n",
        "  return rlp_clf, ran_clf, rlp_acc, ran_acc, std_scl\n",
        "\n",
        "\n",
        "def predict_data(file_name, clf, std_scl):\n",
        "  unlabeled = pd.read_csv(unlabeled_cwd + file_name + \".csv\")\n",
        "  feature = removeNaN(unlabeled, False)\n",
        "  feature = std_scl.transform(feature)\n",
        "  result = clf.predict(feature)\n",
        "  result = np.nan_to_num(result)\n",
        "  return result"
      ],
      "execution_count": 0,
      "outputs": []
    },
    {
      "cell_type": "code",
      "metadata": {
        "id": "97--l4zVJ0fK",
        "colab_type": "code",
        "colab": {}
      },
      "source": [
        "rlp_mse = np.array([])\n",
        "ran_mse = np.array([])"
      ],
      "execution_count": 0,
      "outputs": []
    },
    {
      "cell_type": "code",
      "metadata": {
        "id": "b-sbda2FJ5xI",
        "colab_type": "code",
        "outputId": "68cfcda2-14e9-48b5-c24b-b1aa1f53b466",
        "colab": {
          "base_uri": "https://localhost:8080/",
          "height": 1000
        }
      },
      "source": [
        "for industry in sector_list.iterrows():\n",
        "  ind_name = industry[1][0]\n",
        "  print(ind_name)\n",
        "  rlp_clf, ran_clf, rlp_acc, ran_acc, std_scl = build_classifier(ind_name)\n",
        "  rlp_result = predict_data(ind_name, rlp_clf, std_scl)\n",
        "  ran_result = predict_data(ind_name, ran_clf, std_scl)\n",
        "\n",
        "  rlp_mse = np.append(rlp_mse, rlp_acc)\n",
        "  ran_mse = np.append(ran_mse, ran_acc)\n",
        "\n",
        "  pd.DataFrame(rlp_result).to_csv(rlp_result_cwd + ind_name + \".csv\", index=False, header=False)\n",
        "  pd.DataFrame(ran_result).to_csv(ran_result_cwd + ind_name + \".csv\", index=False, header=False)"
      ],
      "execution_count": 0,
      "outputs": [
        {
          "output_type": "stream",
          "text": [
            "Accomodation & Food Services\n",
            "MLP MSE is: 4.144032849978497\n",
            "RANSAC MSE is: 1142224825.8169\n",
            "Arts & Recreation\n",
            "MLP MSE is: 9.215336876834124\n",
            "RANSAC MSE is: 344.155481298929\n",
            "Asset Management & Securities Brokerage\n",
            "MLP MSE is: 2.0740303040869392\n",
            "RANSAC MSE is: 7.284573829031556\n",
            "Banks\n",
            "MLP MSE is: 1.0330390269939942\n",
            "RANSAC MSE is: 18.575906068442276\n",
            "Business Support Services\n",
            "MLP MSE is: 11.173766810386786\n",
            "RANSAC MSE is: 30.83531437646348\n",
            "Chemical Products\n",
            "MLP MSE is: 22.618796155529992\n",
            "RANSAC MSE is: 50.430761555939185\n",
            "Computer Hardware & Electronics\n",
            "MLP MSE is: 6.31772071005526\n",
            "RANSAC MSE is: 30.169164685941677\n",
            "Conglomerates\n",
            "MLP MSE is: 2.8756493335018742\n",
            "RANSAC MSE is: 6.600961198939935\n",
            "Construction\n",
            "MLP MSE is: 2.025027765660385\n",
            "RANSAC MSE is: 3.8975907595319903\n",
            "Consumer Services\n",
            "MLP MSE is: 53.5210208993273\n",
            "RANSAC MSE is: 120.60711744270354\n",
            "Educational Services\n",
            "MLP MSE is: 4.0153051473425005\n",
            "RANSAC MSE is: 50.723654407710896\n",
            "Food, Beverages, & Tobacco Manufacturing\n",
            "MLP MSE is: 3.3206533599318684\n",
            "RANSAC MSE is: 43.03293310496699\n",
            "Forestry & Agriculture\n",
            "MLP MSE is: 2.5010800054755857\n",
            "RANSAC MSE is: 8.802950729867216\n",
            "Furniture & Textiles Manufacturing\n",
            "MLP MSE is: 5.593826987631834\n",
            "RANSAC MSE is: 38.41672813515893\n",
            "Health Care & Social Assistance\n",
            "MLP MSE is: 1.3699349323138308\n",
            "RANSAC MSE is: 4.073199599728891\n",
            "Information Services\n",
            "MLP MSE is: 18.119257599857566\n",
            "RANSAC MSE is: 12800.767574682664\n",
            "Insurance Brokerage & Other\n",
            "MLP MSE is: 8.053569115637341\n",
            "RANSAC MSE is: 33.25924811881477\n",
            "Manufacturing (Misc.)\n",
            "MLP MSE is: 10.709995434673388\n",
            "RANSAC MSE is: 1208.1493320636382\n",
            "Merchant Wholesalers - Durable Goods\n",
            "MLP MSE is: 7.418098162603786\n",
            "RANSAC MSE is: 19.8130892877899\n",
            "Merchant Wholesalers - Non-Durable Goods\n",
            "MLP MSE is: 32.48877334959273\n",
            "RANSAC MSE is: 34.132693886624175\n",
            "Minerals Extraction\n",
            "MLP MSE is: 46.88190394995594\n",
            "RANSAC MSE is: 20528.94069906369\n",
            "Non-Bank Credit Services\n",
            "MLP MSE is: 1.215715815826144\n",
            "RANSAC MSE is: 1.8702604521265571\n",
            "Pharmaceuticals\n",
            "MLP MSE is: 39.38473172923749\n",
            "RANSAC MSE is: 8565.092667258645\n",
            "Professional, Scientific, & Technical Services\n",
            "MLP MSE is: 7.941702460513366\n",
            "RANSAC MSE is: 178.50268776396044\n",
            "Real Estate\n",
            "MLP MSE is: 203.4020482814113\n",
            "RANSAC MSE is: 189849.34401561544\n",
            "Rental and Leasing\n",
            "MLP MSE is: 11.308385835058251\n",
            "RANSAC MSE is: 13.237814783783003\n",
            "Specialty Retail\n",
            "MLP MSE is: 18.844142423537683\n",
            "RANSAC MSE is: 91.77603743780837\n",
            "Supermarkets & Convenience Stores\n",
            "MLP MSE is: 5.3159282149893965\n",
            "RANSAC MSE is: 19.706168337482666\n",
            "Transportation\n",
            "MLP MSE is: 5.691838290292853\n",
            "RANSAC MSE is: 22.03685064449909\n",
            "Utilities\n",
            "MLP MSE is: 9.793576676234917\n",
            "RANSAC MSE is: 108.28083780733289\n"
          ],
          "name": "stdout"
        }
      ]
    },
    {
      "cell_type": "code",
      "metadata": {
        "id": "9knJvRL4_0SV",
        "colab_type": "code",
        "outputId": "802d9d8d-18fb-4d3a-de21-f8c3972f34da",
        "colab": {
          "base_uri": "https://localhost:8080/",
          "height": 255
        }
      },
      "source": [
        "print(rlp_mse)\n",
        "print(ran_mse)\n",
        "pd.DataFrame(rlp_mse).to_csv(rlp_result_cwd + \"mse.csv\", index=False, header = False)\n",
        "pd.DataFrame(ran_mse).to_csv(ran_result_cwd + \"mse.csv\", index=False, header = False)"
      ],
      "execution_count": 0,
      "outputs": [
        {
          "output_type": "stream",
          "text": [
            "[  4.14403285   9.21533688   2.0740303    1.03303903  11.17376681\n",
            "  22.61879616   6.31772071   2.87564933   2.02502777  53.5210209\n",
            "   4.01530515   3.32065336   2.50108001   5.59382699   1.36993493\n",
            "  18.1192576    8.05356912  10.70999543   7.41809816  32.48877335\n",
            "  46.88190395   1.21571582  39.38473173   7.94170246 203.40204828\n",
            "  11.30838584  18.84414242   5.31592821   5.69183829   9.79357668]\n",
            "[1.14222483e+09 3.44155481e+02 7.28457383e+00 1.85759061e+01\n",
            " 3.08353144e+01 5.04307616e+01 3.01691647e+01 6.60096120e+00\n",
            " 3.89759076e+00 1.20607117e+02 5.07236544e+01 4.30329331e+01\n",
            " 8.80295073e+00 3.84167281e+01 4.07319960e+00 1.28007676e+04\n",
            " 3.32592481e+01 1.20814933e+03 1.98130893e+01 3.41326939e+01\n",
            " 2.05289407e+04 1.87026045e+00 8.56509267e+03 1.78502688e+02\n",
            " 1.89849344e+05 1.32378148e+01 9.17760374e+01 1.97061683e+01\n",
            " 2.20368506e+01 1.08280838e+02]\n"
          ],
          "name": "stdout"
        }
      ]
    },
    {
      "cell_type": "code",
      "metadata": {
        "id": "QrY6AwU7M_h2",
        "colab_type": "code",
        "colab": {}
      },
      "source": [
        ""
      ],
      "execution_count": 0,
      "outputs": []
    }
  ]
}